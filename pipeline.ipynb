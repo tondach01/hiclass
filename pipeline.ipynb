{
 "cells": [
  {
   "cell_type": "code",
   "execution_count": 1,
   "metadata": {},
   "outputs": [],
   "source": [
    "from load import Dataset\n",
    "import numpy as np\n",
    "import matplotlib.pyplot as plt\n",
    "import pandas as pd"
   ]
  },
  {
   "cell_type": "code",
   "execution_count": 2,
   "metadata": {},
   "outputs": [],
   "source": [
    "d = Dataset(\"cellcycle\", nan_strategy=\"none\")"
   ]
  },
  {
   "cell_type": "code",
   "execution_count": 3,
   "metadata": {},
   "outputs": [],
   "source": [
    "def pad_hierarchical_labels_multi_label(labels):\n",
    "    max_depth = max(max(len(path) for path in label) for label in labels)\n",
    "    padded_labels = [[path + [\"\"] * (max_depth - len(path)) for path in label] for label in labels]\n",
    "    return np.array(padded_labels)"
   ]
  },
  {
   "cell_type": "code",
   "execution_count": 4,
   "metadata": {},
   "outputs": [],
   "source": [
    "from sklearn.pipeline import Pipeline\n",
    "from hiclass import MultiLabelLocalClassifierPerNode\n",
    "from hiclass.metrics import f1\n",
    "from sklearn.tree import DecisionTreeClassifier\n",
    "from feature_selection import ModSelectKBest\n",
    "from handle_nan import NumericImputer\n",
    "\n",
    "pipeline = Pipeline([\n",
    "    (\"imputer\", NumericImputer(strategy=\"mean\")),\n",
    "    (\"selector\", ModSelectKBest(k=10)),\n",
    "    (\"model\", MultiLabelLocalClassifierPerNode(DecisionTreeClassifier()))\n",
    "], verbose=True, memory=\"cache\")"
   ]
  },
  {
   "cell_type": "code",
   "execution_count": 5,
   "metadata": {},
   "outputs": [
    {
     "name": "stdout",
     "output_type": "stream",
     "text": [
      "[Pipeline] ........... (step 1 of 3) Processing imputer, total=   0.0s\n"
     ]
    }
   ],
   "source": [
    "pipeline.fit(d.x_train(), d.y_train())\n",
    "y_pred = pipeline.predict(d.x_test())"
   ]
  },
  {
   "cell_type": "code",
   "execution_count": null,
   "metadata": {},
   "outputs": [
    {
     "data": {
      "text/plain": [
       "0                            [[14, 04], [20, 09, 07, 03]]\n",
       "1                            [[10, 01, 09, 05], [42, 07]]\n",
       "2                        [[01, 06, 10], [11, 02, 03, 04]]\n",
       "3       [[01, 04], [10, 03, 01, 03], [10, 03, 03], [11...\n",
       "4                                          [[42, 10, 03]]\n",
       "                              ...                        \n",
       "1276                 [[11, 02, 03, 01], [11, 02, 03, 04]]\n",
       "1277    [[14, 07, 11, 01], [14, 13, 01, 01], [18, 02, ...\n",
       "1278                                   [[11, 04, 03, 01]]\n",
       "1279    [[14, 04], [14, 07, 11, 01], [14, 13, 01], [16...\n",
       "1280       [[10, 01, 09, 05], [14, 07, 04], [42, 10, 03]]\n",
       "Name: class, Length: 1281, dtype: object"
      ]
     },
     "execution_count": 65,
     "metadata": {},
     "output_type": "execute_result"
    }
   ],
   "source": [
    "y_true = d.y_test()"
   ]
  },
  {
   "cell_type": "code",
   "execution_count": null,
   "metadata": {},
   "outputs": [
    {
     "name": "stderr",
     "output_type": "stream",
     "text": [
      "c:\\Users\\sjtom\\Documents\\MUNI\\Semester jar 2024\\PV056 - Machine Learning and Data Mining\\hiclass\\feature_selection.py:75: FutureWarning: The provided callable <built-in function max> is currently using Series.max. In a future version of pandas, the provided callable will be used directly. To keep current behavior pass the string \"max\" instead.\n",
      "  max_len = y.apply(len).agg(max)\n",
      "c:\\Users\\sjtom\\Documents\\MUNI\\Semester jar 2024\\PV056 - Machine Learning and Data Mining\\hiclass\\feature_selection.py:76: FutureWarning: The provided callable <built-in function max> is currently using Series.max. In a future version of pandas, the provided callable will be used directly. To keep current behavior pass the string \"max\" instead.\n",
      "  depth = y.apply(lambda x: max([len(label) for label in x])).agg(max)\n"
     ]
    },
    {
     "ename": "AttributeError",
     "evalue": "'numpy.ndarray' object has no attribute 'apply'",
     "output_type": "error",
     "traceback": [
      "\u001b[1;31m---------------------------------------------------------------------------\u001b[0m",
      "\u001b[1;31mAttributeError\u001b[0m                            Traceback (most recent call last)",
      "Cell \u001b[1;32mIn[93], line 4\u001b[0m\n\u001b[0;32m      1\u001b[0m \u001b[38;5;28;01mfrom\u001b[39;00m \u001b[38;5;21;01mfeature_selection\u001b[39;00m \u001b[38;5;28;01mimport\u001b[39;00m fill_reshape\n\u001b[0;32m      3\u001b[0m y_true_pad \u001b[38;5;241m=\u001b[39m fill_reshape(y_true)\n\u001b[1;32m----> 4\u001b[0m y_pred_pad \u001b[38;5;241m=\u001b[39m \u001b[43mfill_reshape\u001b[49m\u001b[43m(\u001b[49m\u001b[43my_pred\u001b[49m\u001b[43m)\u001b[49m\n",
      "File \u001b[1;32mc:\\Users\\sjtom\\Documents\\MUNI\\Semester jar 2024\\PV056 - Machine Learning and Data Mining\\hiclass\\feature_selection.py:75\u001b[0m, in \u001b[0;36mfill_reshape\u001b[1;34m(y)\u001b[0m\n\u001b[0;32m     68\u001b[0m \u001b[38;5;28;01mdef\u001b[39;00m \u001b[38;5;21mfill_reshape\u001b[39m(y: pd\u001b[38;5;241m.\u001b[39mSeries) \u001b[38;5;241m-\u001b[39m\u001b[38;5;241m>\u001b[39m np\u001b[38;5;241m.\u001b[39mndarray:\n\u001b[0;32m     69\u001b[0m \u001b[38;5;250m    \u001b[39m\u001b[38;5;124;03m\"\"\"\u001b[39;00m\n\u001b[0;32m     70\u001b[0m \u001b[38;5;124;03m    Transform the multi-label part of the dataset to regular shape, so F1 metric can be used\u001b[39;00m\n\u001b[0;32m     71\u001b[0m \n\u001b[0;32m     72\u001b[0m \u001b[38;5;124;03m    :param y: labels (not expanded)\u001b[39;00m\n\u001b[0;32m     73\u001b[0m \u001b[38;5;124;03m    :return: array of x=hierarchy, y=labels per example, z=examples\u001b[39;00m\n\u001b[0;32m     74\u001b[0m \u001b[38;5;124;03m    \"\"\"\u001b[39;00m\n\u001b[1;32m---> 75\u001b[0m     max_len \u001b[38;5;241m=\u001b[39m \u001b[43my\u001b[49m\u001b[38;5;241;43m.\u001b[39;49m\u001b[43mapply\u001b[49m(\u001b[38;5;28mlen\u001b[39m)\u001b[38;5;241m.\u001b[39magg(\u001b[38;5;28mmax\u001b[39m)\n\u001b[0;32m     76\u001b[0m     depth \u001b[38;5;241m=\u001b[39m y\u001b[38;5;241m.\u001b[39mapply(\u001b[38;5;28;01mlambda\u001b[39;00m x: \u001b[38;5;28mmax\u001b[39m([\u001b[38;5;28mlen\u001b[39m(label) \u001b[38;5;28;01mfor\u001b[39;00m label \u001b[38;5;129;01min\u001b[39;00m x]))\u001b[38;5;241m.\u001b[39magg(\u001b[38;5;28mmax\u001b[39m)\n\u001b[0;32m     78\u001b[0m     \u001b[38;5;28;01mdef\u001b[39;00m \u001b[38;5;21malign\u001b[39m(row: \u001b[38;5;28mlist\u001b[39m):\n",
      "\u001b[1;31mAttributeError\u001b[0m: 'numpy.ndarray' object has no attribute 'apply'"
     ]
    }
   ],
   "source": [
    "from feature_selection import fill_reshape\n",
    "\n",
    "y_true_pad = fill_reshape(y_true)\n",
    "y_pred_pad = fill_reshape(y_pred)"
   ]
  },
  {
   "cell_type": "code",
   "execution_count": null,
   "metadata": {},
   "outputs": [],
   "source": [
    "f1(y_true_pad, y_pred_pad)"
   ]
  }
 ],
 "metadata": {
  "kernelspec": {
   "display_name": "venv",
   "language": "python",
   "name": "python3"
  },
  "language_info": {
   "codemirror_mode": {
    "name": "ipython",
    "version": 3
   },
   "file_extension": ".py",
   "mimetype": "text/x-python",
   "name": "python",
   "nbconvert_exporter": "python",
   "pygments_lexer": "ipython3",
   "version": "3.10.7"
  }
 },
 "nbformat": 4,
 "nbformat_minor": 2
}
