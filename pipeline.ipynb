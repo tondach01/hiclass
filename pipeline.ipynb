{
 "cells": [
  {
   "cell_type": "code",
   "execution_count": 5,
   "metadata": {},
   "outputs": [],
   "source": [
    "from load import Dataset\n",
    "import numpy as np\n",
    "import matplotlib.pyplot as plt\n",
    "import pandas as pd"
   ]
  },
  {
   "cell_type": "code",
   "execution_count": 6,
   "metadata": {},
   "outputs": [],
   "source": [
    "d = Dataset(\"cellcycle\", nan_strategy=\"none\")"
   ]
  },
  {
   "cell_type": "code",
   "execution_count": 7,
   "metadata": {},
   "outputs": [],
   "source": [
    "from typing import Union, Literal\n",
    "from feature_selection import ModSelectKBest, IterativeSelect\n",
    "\n",
    "FeatureSelector = Union[ModSelectKBest, IterativeSelect]\n",
    "# Can't be imported for some reason\n",
    "ImputerStrategy = Union[Literal[\"drop\"],\n",
    "                        Literal[\"knn\"],\n",
    "                        Literal[\"mean\"],\n",
    "                        Literal[\"median\"],\n",
    "                        Literal[\"most_frequent\"],\n",
    "                        Literal[\"constant\"]]"
   ]
  },
  {
   "cell_type": "code",
   "execution_count": 8,
   "metadata": {},
   "outputs": [],
   "source": [
    "from typing import Any, Dict, Optional\n",
    "from sklearn.pipeline import Pipeline\n",
    "from hiclass import MultiLabelHierarchicalClassifier\n",
    "from hiclass.metrics import f1\n",
    "from handle_nan import NumericImputer\n",
    "from feature_selection import fill_reshape\n",
    "\n",
    "def baseline(dataset: Dataset,\n",
    "             hiclass_model: MultiLabelHierarchicalClassifier,\n",
    "             imputer_strategy: ImputerStrategy,\n",
    "             imputer_kwargs: Optional[Dict[str, Any]] = None,\n",
    "             verbose: bool = False):\n",
    "    x_train = dataset.x_train()\n",
    "    y_train = dataset.y_train()\n",
    "    \n",
    "    x_test = dataset.x_test()\n",
    "    y_test = dataset.y_test()\n",
    "    y_test_reshaped = fill_reshape(y_test)\n",
    "\n",
    "    pipeline = Pipeline([\n",
    "        (\"imputer\", NumericImputer(strategy=imputer_strategy, **(imputer_kwargs or {}))),\n",
    "        (\"model\", hiclass_model)\n",
    "    ], verbose=verbose, memory=\"cache\")\n",
    "    \n",
    "    pipeline.fit(x_train, y_train)\n",
    "    y_pred = pipeline.predict(x_test)\n",
    "    return \"baseline\", {}, f1(y_test_reshaped, fill_reshape(y_pred))\n",
    "    "
   ]
  },
  {
   "cell_type": "code",
   "execution_count": 10,
   "metadata": {},
   "outputs": [
    {
     "name": "stdout",
     "output_type": "stream",
     "text": [
      "[Pipeline] ............. (step 2 of 2) Processing model, total=  34.8s\n",
      "baseline  : 0.4620\n"
     ]
    }
   ],
   "source": [
    "from hiclass import MultiLabelLocalClassifierPerNode\n",
    "from sklearn.tree import DecisionTreeClassifier\n",
    "\n",
    "base_name, _, base_f1_score = baseline(\n",
    "    d,\n",
    "    MultiLabelLocalClassifierPerNode(DecisionTreeClassifier()),\n",
    "    imputer_strategy=\"mean\",\n",
    "    verbose=True\n",
    ")\n",
    "print(f\"{base_name:<10}: {base_f1_score:.4f}\", flush=True)\n"
   ]
  },
  {
   "cell_type": "code",
   "execution_count": 11,
   "metadata": {},
   "outputs": [],
   "source": [
    "from typing import Any, Dict, Iterable, Literal, Optional, Union\n",
    "from feature_selection import ModSelectKBest, IterativeSelect, fill_reshape\n",
    "from handle_nan import NumericImputer\n",
    "from hiclass import MultiLabelHierarchicalClassifier\n",
    "from itertools import product\n",
    "from pprint import PrettyPrinter\n",
    "from sklearn.pipeline import Pipeline\n",
    "from hiclass.metrics import f1\n",
    "\n",
    "\n",
    "pp = PrettyPrinter(indent=4)\n",
    "\n",
    "\n",
    "def feature_selection(dataset: Dataset,\n",
    "                      hiclass_model: MultiLabelHierarchicalClassifier,\n",
    "                      imputer_strategy: ImputerStrategy,\n",
    "                      imputer_kwargs: Optional[Dict[str, Any]] = None,\n",
    "                      n_feature_splits: Optional[int] = None,\n",
    "                      n_features: Optional[Iterable[int]] = None,\n",
    "                      n_epochs: int | Iterable[int] = 100,\n",
    "                      verbose: bool = False):\n",
    "    def get_pipeline(imputer: NumericImputer,\n",
    "                     selector: FeatureSelector,\n",
    "                     verbose: bool = False) -> Pipeline:\n",
    "        return Pipeline([\n",
    "            (\"imputer\", imputer),\n",
    "            (\"selector\", selector),\n",
    "            (\"model\", hiclass_model)\n",
    "        ], verbose=verbose, memory=\"cache\")\n",
    "    \n",
    "    imputer = NumericImputer(strategy=imputer_strategy, **(imputer_kwargs or {}))\n",
    "    \n",
    "    x_train = dataset.x_train()\n",
    "    y_train = dataset.y_train()\n",
    "    imputer.fit(x_train, y_train)\n",
    "\n",
    "    x_valid = dataset.x_valid()\n",
    "    y_valid = dataset.y_valid()\n",
    "    x_valid = imputer.transform(x_valid)\n",
    "    \n",
    "    x_test = dataset.x_test()\n",
    "    y_test = dataset.y_test()\n",
    "    y_test_reshaped = fill_reshape(y_test)\n",
    "    \n",
    "    if n_features is None:\n",
    "        if n_feature_splits is None:\n",
    "            n_feature_splits = 5\n",
    "\n",
    "        n_features = [round(k * x_train.shape[1] / (n_feature_splits + 1))\n",
    "                      for k\n",
    "                      in range(1, n_feature_splits + 1)]\n",
    "    elif any(not (0 < k <= x_train.shape[1]) for k in n_features):\n",
    "            raise ValueError(\"Invalid number of features\")\n",
    "    \n",
    "    if isinstance(n_epochs, int):\n",
    "        n_epochs = [n_epochs]\n",
    "    \n",
    "    selectors = (\n",
    "        (\"k_best\",\n",
    "         [{\"k\": k} for k in n_features]),\n",
    "        (\"iterative\",\n",
    "         [\n",
    "             {\n",
    "                 \"k\": k,\n",
    "                 \"x_valid\": x_valid,\n",
    "                 \"y_valid\": y_valid,\n",
    "                 \"epochs\": epochs,\n",
    "                 \"verbose\": verbose,\n",
    "             }\n",
    "             for k, epochs\n",
    "             in product(n_features, n_epochs)\n",
    "         ])\n",
    "    )\n",
    "    \n",
    "    for key, kwargs in selectors:\n",
    "        for kw in kwargs:\n",
    "            selector = ModSelectKBest(**kw) if key == \"k_best\" else IterativeSelect(**kw)\n",
    "            pipeline = get_pipeline(imputer, selector, verbose=verbose)\n",
    "            try:\n",
    "                pipeline.fit(x_train, y_train)\n",
    "                y_pred = pipeline.predict(x_test)\n",
    "            except BaseException as e:\n",
    "                print(f\"Selector: {key} failed\\nkwargs: \", flush=True)\n",
    "                pp.pprint(kw)\n",
    "                raise e\n",
    "            score = f1(y_test_reshaped, fill_reshape(y_pred))\n",
    "            if verbose:\n",
    "                print(f\"Selector: {key}, kwargs: {kw}, score: {score}\", flush=True)\n",
    "            yield key, kw, score\n"
   ]
  },
  {
   "cell_type": "code",
   "execution_count": 16,
   "metadata": {},
   "outputs": [
    {
     "name": "stdout",
     "output_type": "stream",
     "text": [
      "baseline        : 0.4620\n"
     ]
    }
   ],
   "source": [
    "from hiclass import MultiLabelLocalClassifierPerNode\n",
    "from sklearn.tree import DecisionTreeClassifier\n",
    "\n",
    "feat_sel_results = feature_selection(d,\n",
    "                                     MultiLabelLocalClassifierPerNode(DecisionTreeClassifier()),\n",
    "                                     imputer_strategy=\"mean\",\n",
    "                                     n_feature_splits=1,\n",
    "                                     n_epochs=1,\n",
    "                                     verbose=False)\n",
    "\n",
    "print(f\"{base_name:<16}: {base_f1_score:.4f}\", flush=True)\n",
    "for selector, kwargs, f1_score in feat_sel_results:\n",
    "    print(f\"{selector:<10}({kwargs.get('k', '-'):<4}): {f1_score:.4f}\", flush=True)\n",
    "#  headers=[\"Selector\", \"k\", \"F1 score\"], tablefmt=\"fancy_grid\")"
   ]
  },
  {
   "cell_type": "code",
   "execution_count": null,
   "metadata": {},
   "outputs": [],
   "source": []
  }
 ],
 "metadata": {
  "kernelspec": {
   "display_name": "venv",
   "language": "python",
   "name": "python3"
  },
  "language_info": {
   "codemirror_mode": {
    "name": "ipython",
    "version": 3
   },
   "file_extension": ".py",
   "mimetype": "text/x-python",
   "name": "python",
   "nbconvert_exporter": "python",
   "pygments_lexer": "ipython3",
   "version": "3.10.7"
  }
 },
 "nbformat": 4,
 "nbformat_minor": 2
}
