{
 "cells": [
  {
   "cell_type": "code",
   "execution_count": 1,
   "metadata": {},
   "outputs": [],
   "source": [
    "from load import Dataset\n",
    "import numpy as np\n",
    "import matplotlib.pyplot as plt\n",
    "import pandas as pd"
   ]
  },
  {
   "cell_type": "code",
   "execution_count": 2,
   "metadata": {},
   "outputs": [],
   "source": [
    "d = Dataset(\"cellcycle\", nan_strategy=\"none\")"
   ]
  },
  {
   "cell_type": "code",
   "execution_count": 3,
   "metadata": {},
   "outputs": [],
   "source": [
    "from typing import Union, Literal\n",
    "from feature_selection import ModSelectKBest, IterativeSelect\n",
    "from sklearn.tree import DecisionTreeClassifier\n",
    "from hiclass import MultiLabelLocalClassifierPerNode\n",
    "\n",
    "FeatureSelector = Union[ModSelectKBest, IterativeSelect]\n",
    "# Can't be imported for some reason\n",
    "ImputerStrategy = Union[Literal[\"drop\"],\n",
    "                        Literal[\"knn\"],\n",
    "                        Literal[\"mean\"],\n",
    "                        Literal[\"median\"],\n",
    "                        Literal[\"most_frequent\"],\n",
    "                        Literal[\"constant\"]]\n",
    "\n",
    "IMPUTER_STRATEGY = \"mean\"\n",
    "IMPUTER_KWARGS = {}\n",
    "MODEL_STEPS = [\n",
    "    (\"model\", MultiLabelLocalClassifierPerNode(DecisionTreeClassifier())),\n",
    "]"
   ]
  },
  {
   "cell_type": "code",
   "execution_count": 5,
   "metadata": {},
   "outputs": [],
   "source": [
    "from typing import Any, Callable, Dict, Optional, Tuple\n",
    "\n",
    "from feature_selection import fill_reshape\n",
    "from handle_nan import NumericImputer\n",
    "\n",
    "\n",
    "def prep_dataset(dataset: Dataset,\n",
    "                 imputer_strategy: ImputerStrategy,\n",
    "                 imputer_kwargs: Optional[Dict[str, Any]] = None,\n",
    "                 x_train_prep: Optional[Callable[[pd.DataFrame], pd.DataFrame]] = None,\n",
    "                 ) -> Tuple[Dict[str, pd.DataFrame],\n",
    "                            NumericImputer]:\n",
    "    imputer = NumericImputer(strategy=imputer_strategy, **(imputer_kwargs or {}))\n",
    "    data: Dict[str, pd.DataFrame] = {}\n",
    "\n",
    "    data[\"x_train\"] = dataset.x_train()\n",
    "    if x_train_prep is not None:\n",
    "        data[\"x_train\"] = x_train_prep(data[\"x_train\"])\n",
    "    data[\"y_train\"] = dataset.y_train()\n",
    "    imputer.fit(data[\"x_train\"], data[\"y_train\"])\n",
    "\n",
    "    data[\"x_valid\"] = dataset.x_valid()\n",
    "    data[\"y_valid\"] = dataset.y_valid()\n",
    "    data[\"x_valid\"] = imputer.transform(data[\"x_valid\"])\n",
    "    \n",
    "    data[\"x_test\"] = dataset.x_test()\n",
    "    data[\"y_test\"] = dataset.y_test()\n",
    "    data[\"y_test_reshaped\"] = fill_reshape(data[\"y_test\"])\n",
    "    return data, imputer"
   ]
  },
  {
   "cell_type": "code",
   "execution_count": 6,
   "metadata": {},
   "outputs": [],
   "source": [
    "from typing import Any, Callable, Dict, List, Optional, Tuple\n",
    "from sklearn.base import BaseEstimator\n",
    "from sklearn.pipeline import Pipeline\n",
    "from hiclass.metrics import f1\n",
    "from handle_nan import NumericImputer\n",
    "from feature_selection import fill_reshape\n",
    "\n",
    "def evaluate(dataset: Optional[Dataset] = None,\n",
    "             data: Optional[Dict[str, pd.DataFrame]] = None,\n",
    "             model_steps: List[Tuple[str, BaseEstimator]] = [],\n",
    "             imputer_strategy: ImputerStrategy = \"mean\",\n",
    "             imputer_kwargs: Optional[Dict[str, Any]] = None,\n",
    "             x_train_prep: Optional[Callable[[pd.DataFrame], pd.DataFrame]] = None,\n",
    "             name: str = \"baseline\",\n",
    "             verbose: bool = True,\n",
    "             verbose_pipe: bool = False):\n",
    "    if data is None:\n",
    "        if dataset is None:\n",
    "            raise ValueError(\"Either dataset or data must be provided\")\n",
    "        data, imputer = prep_dataset(dataset,\n",
    "                                     imputer_strategy,\n",
    "                                     imputer_kwargs,\n",
    "                                     x_train_prep)\n",
    "    else:\n",
    "        imputer = NumericImputer(strategy=imputer_strategy, **(imputer_kwargs or {}))\n",
    "\n",
    "    pipeline = Pipeline([\n",
    "        (\"imputer\", imputer),\n",
    "        *model_steps,\n",
    "    ], verbose=verbose_pipe, memory=\"cache\")\n",
    "    \n",
    "    pipeline.fit(data[\"x_train\"], data[\"y_train\"])\n",
    "    y_pred = pipeline.predict(data[\"x_test\"])\n",
    "    micro_score = f1(data[\"y_test_reshaped\"], fill_reshape(y_pred), \"micro\")\n",
    "    macro_score = f1(data[\"y_test_reshaped\"], fill_reshape(y_pred), \"macro\")\n",
    "    if verbose:\n",
    "        print(f\"{name}: {micro_score:.4f} | {macro_score:.4f}\", flush=True)\n",
    "    return name, micro_score, macro_score\n",
    "    "
   ]
  },
  {
   "cell_type": "code",
   "execution_count": 7,
   "metadata": {},
   "outputs": [
    {
     "name": "stdout",
     "output_type": "stream",
     "text": [
      "baseline: 0.4629 | 0.4465\n"
     ]
    }
   ],
   "source": [
    "base_name, base_micro_score, base_macro_score = evaluate(\n",
    "    dataset=d,\n",
    "    model_steps=MODEL_STEPS,\n",
    "    imputer_strategy=\"mean\",\n",
    "    verbose=False,\n",
    ")\n",
    "print(f\"{base_name}: {base_micro_score:.4f} | {base_macro_score:.4f}\", flush=True)\n"
   ]
  },
  {
   "cell_type": "code",
   "execution_count": 8,
   "metadata": {},
   "outputs": [],
   "source": [
    "from typing import Any, Dict, Iterable, Optional\n",
    "from feature_selection import ModSelectKBest, IterativeSelect\n",
    "from itertools import product\n",
    "from pprint import PrettyPrinter\n",
    "\n",
    "\n",
    "pp = PrettyPrinter(indent=4)\n",
    "\n",
    "\n",
    "def feature_selection(dataset: Dataset,\n",
    "                      model_steps: List[Tuple[str, BaseEstimator]],\n",
    "                      imputer_strategy: ImputerStrategy,\n",
    "                      imputer_kwargs: Optional[Dict[str, Any]] = None,\n",
    "                      n_feature_splits: Optional[int] = None,\n",
    "                      n_features: Optional[Iterable[int]] = None,\n",
    "                      n_epochs: int | Iterable[int] = 100,\n",
    "                      verbose: bool = True,\n",
    "                      verbose_pipe: bool = False):\n",
    "    data, _ = prep_dataset(dataset, imputer_strategy, imputer_kwargs)\n",
    "    train_n_features = data[\"x_train\"].shape[1]\n",
    "    \n",
    "    if n_features is None:\n",
    "        if n_feature_splits is None:\n",
    "            n_feature_splits = 5\n",
    "\n",
    "        n_features = [round(k * train_n_features / (n_feature_splits + 1))\n",
    "                      for k\n",
    "                      in range(1, n_feature_splits + 1)]\n",
    "    elif any(not (0 < k <= train_n_features) for k in n_features):\n",
    "            raise ValueError(\"Invalid number of features\")\n",
    "    \n",
    "    if isinstance(n_epochs, int):\n",
    "        n_epochs = [n_epochs]\n",
    "    \n",
    "    selectors = (\n",
    "        (\"Select K-Best\",\n",
    "         [{\"k\": k} for k in n_features]),\n",
    "        (\"Iterative Random Select\",\n",
    "         [\n",
    "             {\n",
    "                 \"k\": k,\n",
    "                 \"x_valid\": data[\"x_valid\"],\n",
    "                 \"y_valid\": data[\"y_valid\"],\n",
    "                 \"epochs\": epochs,\n",
    "                 \"verbose\": verbose,\n",
    "             }\n",
    "             for k, epochs\n",
    "             in product(n_features, n_epochs)\n",
    "         ])\n",
    "    )\n",
    "    \n",
    "    for key, kwargs in selectors:\n",
    "        for kw in kwargs:\n",
    "            selector = (ModSelectKBest(**kw)\n",
    "                        if key == \"Select K-Best\"\n",
    "                        else IterativeSelect(**kw))\n",
    "            \n",
    "            name, micro_score, macro_score = evaluate(\n",
    "                data=data,\n",
    "                model_steps=[(\"selector\", selector), *model_steps],\n",
    "                imputer_strategy=imputer_strategy,\n",
    "                imputer_kwargs=imputer_kwargs,\n",
    "                name=f\"{key} ({kw.get('k', 'X')})\",\n",
    "                verbose=verbose,\n",
    "                verbose_pipe=verbose_pipe\n",
    "            )\n",
    "            yield name, micro_score, macro_score\n"
   ]
  },
  {
   "cell_type": "code",
   "execution_count": 9,
   "metadata": {},
   "outputs": [
    {
     "name": "stdout",
     "output_type": "stream",
     "text": [
      "baseline            : 0.4629 | 0.4465\n",
      "Select K-Best (38)  : 0.4519 | 0.4519\n"
     ]
    }
   ],
   "source": [
    "feat_sel_results = feature_selection(d,\n",
    "                                     MODEL_STEPS,\n",
    "                                     imputer_strategy=IMPUTER_STRATEGY,\n",
    "                                     imputer_kwargs=IMPUTER_KWARGS,\n",
    "                                     n_feature_splits=1,\n",
    "                                     n_epochs=1,\n",
    "                                     verbose=False)\n",
    "\n",
    "print(f\"{base_name:<20}: {base_micro_score:.4f} | {base_macro_score:.4f}\", flush=True)\n",
    "for sel_name, sel_micro_score, sel_macro_score in feat_sel_results:\n",
    "    print(f\"{sel_name:<20}: {sel_micro_score:.4f} | {sel_micro_score:.4f}\", flush=True)"
   ]
  },
  {
   "cell_type": "code",
   "execution_count": null,
   "metadata": {},
   "outputs": [],
   "source": []
  }
 ],
 "metadata": {
  "kernelspec": {
   "display_name": "venv",
   "language": "python",
   "name": "python3"
  },
  "language_info": {
   "codemirror_mode": {
    "name": "ipython",
    "version": 3
   },
   "file_extension": ".py",
   "mimetype": "text/x-python",
   "name": "python",
   "nbconvert_exporter": "python",
   "pygments_lexer": "ipython3",
   "version": "3.10.7"
  }
 },
 "nbformat": 4,
 "nbformat_minor": 2
}
